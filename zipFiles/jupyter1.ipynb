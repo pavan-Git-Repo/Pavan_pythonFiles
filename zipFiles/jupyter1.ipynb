import random
def choose_first():
    flip = random.randint(0,1)
    if flip == 0:
        return 'Player1'
    else:
        return 'Player2'