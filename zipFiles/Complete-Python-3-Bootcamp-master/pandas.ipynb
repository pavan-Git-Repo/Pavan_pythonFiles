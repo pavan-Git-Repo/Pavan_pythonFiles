{
 "cells": [
  {
   "cell_type": "code",
   "execution_count": null,
   "metadata": {},
   "outputs": [],
   "source": [
    "import pandas as pd\n",
    "import matplotlib.pyplot as plt\n",
    "from matplotlib import style\n",
    "style.use('fivethirtyeight')\n",
    "country = pd.read_csv(\"C:\\\\Users\\\\91817\\\\OneDrive\\\\Documents\\\\Book1.xlsx\", index_col=0)\n",
    "df = country.head(5)\n",
    "df = df.set_index([\"Country code\"])\n",
    "sd = df.reindex(columns=['2010','2011'])\n",
    "db = sd.diff(axis=1)\n",
    "db.plot(kind = 'bar')\n",
    "plt.show()"
   ]
  },
  {
   "cell_type": "code",
   "execution_count": 1,
   "metadata": {},
   "outputs": [],
   "source": [
    "import pandas as pd\n",
    "path = pd.read_csv(\"C:\\\\Users\\\\91817\\\\Downloads\\\\excelfile.zip\", index_col=0)\n",
    "path.to_html(\"Mokhi.html\")"
   ]
  }
 ],
 "metadata": {
  "interpreter": {
   "hash": "363917960b5075326e5dbafb50e0133eddc1e3aecf91482c066fba4a52b987e2"
  },
  "kernelspec": {
   "display_name": "Python 3.9.10 64-bit (windows store)",
   "language": "python",
   "name": "python3"
  },
  "language_info": {
   "codemirror_mode": {
    "name": "ipython",
    "version": 3
   },
   "file_extension": ".py",
   "mimetype": "text/x-python",
   "name": "python",
   "nbconvert_exporter": "python",
   "pygments_lexer": "ipython3",
   "version": "3.9.10"
  },
  "orig_nbformat": 4
 },
 "nbformat": 4,
 "nbformat_minor": 2
}
