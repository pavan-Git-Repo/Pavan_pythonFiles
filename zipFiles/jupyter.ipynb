{
 "cells": [
  {
   "cell_type": "code",
   "execution_count": null,
   "metadata": {},
   "outputs": [
    {
     "ename": "",
     "evalue": "",
     "output_type": "error",
     "traceback": [
      "\u001b[1;31mFailed to start the Kernel. \n",
      "AttributeError: partially initialized module 'random' has no attribute 'seed' (most likely due to a circular import). \n",
      "View Jupyter <a href='command:jupyter.viewOutput'>log</a> for further details."
     ]
    }
   ],
   "source": [
    "f = open('fileone.txt','w+')\n",
    "f.write('ONE FILE')\n",
    "f.close()\n",
    "f = open('filetwo.txt','w+')\n",
    "f.write('TWO FILE')\n",
    "f.close()\n",
    "import pwd\n",
    "import zipfile\n",
    "com_file = zipfile.ZipFile('com_file.zip','w')\n",
    "com_file.write('fileone.txt',compress_type=zipfile.ZIP_DEFLATED)\n",
    "com_file.write('filetwo.txt',compress_type=zipfile.ZIP_DEFLATED)\n",
    "com_file.close()\n",
    "zip_obj = zipfile.ZipFile('com_file.zip','r')\n",
    "zip_obj.extractall('extracted_content')\n",
    "pwd\n"
   ]
  }
 ],
 "metadata": {
  "kernelspec": {
   "display_name": "Python 3.9.13 64-bit (windows store)",
   "language": "python",
   "name": "python3"
  },
  "language_info": {
   "codemirror_mode": {
    "name": "ipython",
    "version": 3
   },
   "file_extension": ".py",
   "mimetype": "text/x-python",
   "name": "python",
   "nbconvert_exporter": "python",
   "pygments_lexer": "ipython3",
   "version": "3.9.13"
  },
  "orig_nbformat": 4,
  "vscode": {
   "interpreter": {
    "hash": "9687389b71dcf6cc116e86a5363a484bdb441b44b8a4bc4423e999ca931572f2"
   }
  }
 },
 "nbformat": 4,
 "nbformat_minor": 2
}
